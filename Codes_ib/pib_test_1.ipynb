{
 "cells": [
  {
   "cell_type": "code",
   "execution_count": 15,
   "metadata": {},
   "outputs": [],
   "source": [
    "import matplotlib.pyplot as plt\n",
    "import torch\n",
    "from torch import nn, optim, autograd\n",
    "from torch.nn import functional as F\n",
    "\n",
    "import numpy as np\n",
    "import scipy.spatial\n",
    "import math"
   ]
  },
  {
   "cell_type": "code",
   "execution_count": 18,
   "metadata": {},
   "outputs": [],
   "source": [
    "\"\"\"\n",
    "Dx = 2\n",
    "N = 10000\n",
    "\n",
    "X0 = torch.randn(N, Dx)\n",
    "X0[:, 1] = X0[:, 0] + torch.randn_like(X0[:, 0])\n",
    "X1 = X0 + torch.randn(N, Dx)\n",
    "X1[:, 1] = X1[:, 0] + torch.randn_like(X1[:, 0])\n",
    "\"\"\"\n",
    "\n",
    "Dx_bar = 2\n",
    "N = 100000\n",
    "X0_bar = torch.randn(N, Dx_bar)\n",
    "X0_bar[:, 1] = X0_bar[:, 0] + torch.randn_like(X0_bar[:, 0])\n",
    "X1_bar = torch.empty(N, Dx_bar)\n",
    "X1_bar[:, 0] = X0_bar[:, 0] + torch.randn(N)\n",
    "X1_bar[:, 1] = X1_bar[:, 0] + torch.randn_like(X1_bar[:, 0])\n",
    "\n",
    "Dx = 10\n",
    "W = torch.rand(Dx, 2) * 2 - 1\n",
    "b = torch.rand(Dx) * 2\n",
    "X0 = torch.exp(-0.5*(torch.mm(X0_bar, W.T) + b)**2)\n",
    "X1 = torch.exp(-0.5*(torch.mm(X1_bar, W.T) + b)**2)"
   ]
  },
  {
   "cell_type": "code",
   "execution_count": 19,
   "metadata": {},
   "outputs": [
    {
     "name": "stdout",
     "output_type": "stream",
     "text": [
      "torch.Size([10, 2])\n"
     ]
    }
   ],
   "source": [
    "print(W.size())"
   ]
  },
  {
   "cell_type": "code",
   "execution_count": 20,
   "metadata": {},
   "outputs": [],
   "source": [
    "train_batch_size = 128\n",
    "\n",
    "train_loader = torch.utils.data.DataLoader(\n",
    "    torch.cat([X0, X1], 1), batch_size = train_batch_size, shuffle = True)"
   ]
  },
  {
   "cell_type": "code",
   "execution_count": 21,
   "metadata": {},
   "outputs": [],
   "source": [
    "\n",
    "Dr = 1\n",
    "\n",
    "\n",
    "R_net = nn.Sequential(\n",
    "    nn.Linear(Dx, 64),\n",
    "    nn.ReLU(),\n",
    "    nn.Linear(64, 64),\n",
    "    nn.ReLU(),\n",
    "    nn.Linear(64, 64),\n",
    "    nn.ReLU(),\n",
    "    nn.Linear(64, 64),\n",
    "    nn.ReLU(),\n",
    "    nn.Linear(64, Dr)\n",
    "    )\n",
    "\n",
    "T_net = nn.Sequential(\n",
    "    nn.Linear(Dx + Dr, 64),\n",
    "    nn.ReLU(),\n",
    "    nn.Linear(64, 64),\n",
    "    nn.ReLU(),\n",
    "    nn.Linear(64, 64),\n",
    "    nn.ReLU(),\n",
    "    nn.Linear(64, 64),\n",
    "    nn.ReLU(),\n",
    "    nn.Linear(64, 1)\n",
    "    )\n"
   ]
  },
  {
   "cell_type": "code",
   "execution_count": 22,
   "metadata": {},
   "outputs": [
    {
     "name": "stdout",
     "output_type": "stream",
     "text": [
      "Train Epoch: 1 ===> Train set loss: 4.5899\n",
      "Train Epoch: 2 ===> Train set loss: 4.5391\n",
      "Train Epoch: 3 ===> Train set loss: 4.5288\n",
      "Train Epoch: 4 ===> Train set loss: 4.5321\n",
      "Train Epoch: 5 ===> Train set loss: 4.5246\n",
      "Train Epoch: 6 ===> Train set loss: 4.5236\n",
      "Train Epoch: 7 ===> Train set loss: 4.5231\n",
      "Train Epoch: 8 ===> Train set loss: 4.5229\n",
      "Train Epoch: 9 ===> Train set loss: 4.5271\n",
      "Train Epoch: 10 ===> Train set loss: 4.5210\n",
      "Train Epoch: 11 ===> Train set loss: 4.5285\n",
      "Train Epoch: 12 ===> Train set loss: 4.5251\n",
      "Train Epoch: 13 ===> Train set loss: 4.5263\n",
      "Train Epoch: 14 ===> Train set loss: 4.5207\n",
      "Train Epoch: 15 ===> Train set loss: 4.5210\n",
      "Train Epoch: 16 ===> Train set loss: 4.5233\n",
      "Train Epoch: 17 ===> Train set loss: 4.5167\n",
      "Train Epoch: 18 ===> Train set loss: 4.5236\n",
      "Train Epoch: 19 ===> Train set loss: 4.5268\n",
      "Train Epoch: 20 ===> Train set loss: 4.5218\n",
      "Train Epoch: 21 ===> Train set loss: 4.5232\n",
      "Train Epoch: 22 ===> Train set loss: 4.5203\n",
      "Train Epoch: 23 ===> Train set loss: 4.5215\n",
      "Train Epoch: 24 ===> Train set loss: 4.5180\n",
      "Train Epoch: 25 ===> Train set loss: 4.5173\n",
      "Train Epoch: 26 ===> Train set loss: 4.5113\n",
      "Train Epoch: 27 ===> Train set loss: 4.5077\n",
      "Train Epoch: 28 ===> Train set loss: 4.5043\n",
      "Train Epoch: 29 ===> Train set loss: 4.5089\n",
      "Train Epoch: 30 ===> Train set loss: 4.5156\n",
      "Train Epoch: 31 ===> Train set loss: 4.5116\n",
      "Train Epoch: 32 ===> Train set loss: 4.5079\n",
      "Train Epoch: 33 ===> Train set loss: 4.5079\n",
      "Train Epoch: 34 ===> Train set loss: 4.5095\n",
      "Train Epoch: 35 ===> Train set loss: 4.5118\n",
      "Train Epoch: 36 ===> Train set loss: 4.5098\n",
      "Train Epoch: 37 ===> Train set loss: 4.5095\n",
      "Train Epoch: 38 ===> Train set loss: 4.5090\n",
      "Train Epoch: 39 ===> Train set loss: 4.5128\n",
      "Train Epoch: 40 ===> Train set loss: 4.5107\n",
      "Train Epoch: 41 ===> Train set loss: 4.5119\n",
      "Train Epoch: 42 ===> Train set loss: 4.5057\n",
      "Train Epoch: 43 ===> Train set loss: 4.5078\n",
      "Train Epoch: 44 ===> Train set loss: 4.5055\n",
      "Train Epoch: 45 ===> Train set loss: 4.5102\n",
      "Train Epoch: 46 ===> Train set loss: 4.5082\n",
      "Train Epoch: 47 ===> Train set loss: 4.5132\n",
      "Train Epoch: 48 ===> Train set loss: 4.5096\n",
      "Train Epoch: 49 ===> Train set loss: 4.5128\n",
      "Train Epoch: 50 ===> Train set loss: 4.5092\n"
     ]
    }
   ],
   "source": [
    "lr = 1e-3\n",
    "optimizer = optim.Adam(list(R_net.parameters()) + list(T_net.parameters()), lr=lr)\n",
    "scheduler = torch.optim.lr_scheduler.StepLR(optimizer, step_size=25, gamma=0.1)\n",
    "\n",
    "n_epochs = 50\n",
    "train_data_size = len(train_loader.dataset)\n",
    "for epoch in range(1, n_epochs + 1):\n",
    "    train_loss = 0\n",
    "    for batch_idx, data in enumerate(train_loader):\n",
    "\n",
    "        actual_size = len(data)\n",
    "        data = data\n",
    "        data_X0 = data[:, :Dx]\n",
    "        data_X1 = data[:, Dx:2*Dx]\n",
    "        #rand_ind = np.random.choice(train_data_size, actual_size, replace=False)\n",
    "        #data_iX1 = train_loader.dataset[rand_ind, Dx:2*Dx].to(device)\n",
    "        data_iX1 = data_X1[torch.randperm(actual_size)]\n",
    "        R0 = R_net(data_X0)\n",
    "        T_J = T_net(torch.cat([R0, data_X1], 1))\n",
    "        T_I = T_net(torch.cat([R0, data_iX1], 1))\n",
    "        loss = -T_J.mean() + torch.logsumexp(T_I, 0)[0]\n",
    "\n",
    "        train_loss += loss.item() * len(data)\n",
    "        optimizer.zero_grad()\n",
    "        loss.backward()\n",
    "        optimizer.step()\n",
    "\n",
    "    train_loss /= len(train_loader.dataset)\n",
    "    \n",
    "    if epoch % 1 == 0:\n",
    "        print('Train Epoch: {} ===> Train set loss: {:.4f}'.format(epoch, train_loss))\n",
    "    \n",
    "    scheduler.step()"
   ]
  },
  {
   "cell_type": "code",
   "execution_count": 24,
   "metadata": {},
   "outputs": [
    {
     "data": {
      "text/plain": [
       "Text(0, 0.5, 'Rt')"
      ]
     },
     "execution_count": 24,
     "metadata": {},
     "output_type": "execute_result"
    },
    {
     "data": {
      "image/png": "[encoded data removed]",
      "text/plain": [
       "<Figure size 432x288 with 1 Axes>"
      ]
     },
     "metadata": {
      "needs_background": "light"
     },
     "output_type": "display_data"
    }
   ],
   "source": [
    "# R = R_net(X0.to(device))\n",
    "# plt.plot(X0_bar.cpu().detach().numpy()[:, 0], R.cpu().detach().numpy()[:, 0], 'o')\n",
    "R = R_net(X0)\n",
    "plt.plot(X0_bar.detach().numpy()[:, 0], R.detach().numpy()[:, 0], 'o')\n",
    "plt.xlabel('Xt[:,0]')\n",
    "plt.ylabel('Rt')"
   ]
  },
  {
   "cell_type": "code",
   "execution_count": null,
   "metadata": {},
   "outputs": [],
   "source": []
  },
  {
   "cell_type": "code",
   "execution_count": null,
   "metadata": {},
   "outputs": [],
   "source": []
  }
 ],
 "metadata": {
  "kernelspec": {
   "display_name": "Python 3",
   "language": "python",
   "name": "python3"
  },
  "language_info": {
   "codemirror_mode": {
    "name": "ipython",
    "version": 3
   },
   "file_extension": ".py",
   "mimetype": "text/x-python",
   "name": "python",
   "nbconvert_exporter": "python",
   "pygments_lexer": "ipython3",
   "version": "3.7.3"
  }
 },
 "nbformat": 4,
 "nbformat_minor": 4
}
