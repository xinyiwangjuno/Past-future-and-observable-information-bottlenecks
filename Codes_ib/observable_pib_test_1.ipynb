{
 "cells": [
  {
   "cell_type": "code",
   "execution_count": 1,
   "metadata": {},
   "outputs": [],
   "source": [
    "import matplotlib.pyplot as plt\n",
    "import torch\n",
    "from torch import nn, optim, autograd\n",
    "from torch.nn import functional as F\n",
    "\n",
    "import numpy as np\n",
    "import scipy.spatial\n",
    "import math"
   ]
  },
  {
   "cell_type": "code",
   "execution_count": 2,
   "metadata": {},
   "outputs": [],
   "source": [
    "\n",
    "Dx = 2\n",
    "N = 10000\n",
    "\n",
    "X0 = torch.randn(N, Dx)\n",
    "X1 = X0 + torch.randn(N, Dx)\n",
    "\n",
    "\n",
    "\n",
    "\n",
    "# Dx_bar = 2\n",
    "# N = 10000\n",
    "# X0_bar = torch.randn(N, Dx_bar)\n",
    "# X0_bar[:, 1] = X0_bar[:, 0] + torch.randn_like(X0_bar[:, 0])\n",
    "# X1_bar = torch.empty(N, Dx_bar)\n",
    "# X1_bar[:, 0] = X0_bar[:, 0] + torch.randn(N)\n",
    "# X1_bar[:, 1] = X1_bar[:, 0] + torch.randn_like(X1_bar[:, 0])\n",
    "\n",
    "# Dx = 10\n",
    "# W = torch.rand(Dx, 2) * 2 - 1\n",
    "# b = torch.rand(Dx) * 2\n",
    "# X0 = torch.exp(-0.5*(torch.mm(X0_bar, W.T) + b)**2)\n",
    "# X1 = torch.exp(-0.5*(torch.mm(X1_bar, W.T) + b)**2)\n",
    "\n",
    "Dy = Dx//2\n",
    "Y0 = X0[:,0].reshape(-1,1)\n",
    "Y1 = X1[:,0].reshape(-1,1)"
   ]
  },
  {
   "cell_type": "code",
   "execution_count": 3,
   "metadata": {},
   "outputs": [
    {
     "name": "stdout",
     "output_type": "stream",
     "text": [
      "torch.Size([10000, 1])\n"
     ]
    }
   ],
   "source": [
    "print(Y0.size())"
   ]
  },
  {
   "cell_type": "code",
   "execution_count": 4,
   "metadata": {},
   "outputs": [],
   "source": [
    "train_batch_size = 128\n",
    "\n",
    "train_loader = torch.utils.data.DataLoader(\n",
    "    torch.cat([X0, X1, Y1], 1), batch_size = train_batch_size, shuffle = True)"
   ]
  },
  {
   "cell_type": "code",
   "execution_count": 5,
   "metadata": {},
   "outputs": [],
   "source": [
    "Dr = 1\n",
    "\n",
    "\n",
    "R_net = nn.Sequential(\n",
    "    nn.Linear(Dx, 64),\n",
    "    nn.ReLU(),\n",
    "    nn.Linear(64, 64),\n",
    "    nn.ReLU(),\n",
    "    nn.Linear(64, 64),\n",
    "    nn.ReLU(),\n",
    "    nn.Linear(64, 64),\n",
    "    nn.ReLU(),\n",
    "    nn.Linear(64, Dr)\n",
    "    )\n",
    "\n",
    "T_net = nn.Sequential(\n",
    "    nn.Linear(2*Dr + Dy, 64),\n",
    "    nn.ReLU(),\n",
    "    nn.Linear(64, 64),\n",
    "    nn.ReLU(),\n",
    "    nn.Linear(64, 64),\n",
    "    nn.ReLU(),\n",
    "    nn.Linear(64, 64),\n",
    "    nn.ReLU(),\n",
    "    nn.Linear(64, 1)\n",
    "    )\n",
    "\n",
    "Tx_net = nn.Sequential(\n",
    "    nn.Linear(Dx + Dr + Dy, 64),\n",
    "    nn.ReLU(),\n",
    "    nn.Linear(64, 64),\n",
    "    nn.ReLU(),\n",
    "    nn.Linear(64, 64),\n",
    "    nn.ReLU(),\n",
    "    nn.Linear(64, 64),\n",
    "    nn.ReLU(),\n",
    "    nn.Linear(64, 1)\n",
    "    )"
   ]
  },
  {
   "cell_type": "code",
   "execution_count": 6,
   "metadata": {},
   "outputs": [
    {
     "name": "stdout",
     "output_type": "stream",
     "text": [
      "Train Epoch: 1 ===> Train set loss: 7.6730\n",
      "Train Epoch: 2 ===> Train set loss: 5.3159\n",
      "Train Epoch: 3 ===> Train set loss: 4.7181\n",
      "Train Epoch: 4 ===> Train set loss: 3.7233\n",
      "Train Epoch: 5 ===> Train set loss: 4.0367\n",
      "Train Epoch: 6 ===> Train set loss: 3.9469\n",
      "Train Epoch: 7 ===> Train set loss: 4.0237\n",
      "Train Epoch: 8 ===> Train set loss: 3.6409\n",
      "Train Epoch: 9 ===> Train set loss: 3.6459\n",
      "Train Epoch: 10 ===> Train set loss: 4.0597\n",
      "Train Epoch: 11 ===> Train set loss: 3.3616\n",
      "Train Epoch: 12 ===> Train set loss: 3.9065\n",
      "Train Epoch: 13 ===> Train set loss: 2.5297\n",
      "Train Epoch: 14 ===> Train set loss: 5.9016\n",
      "Train Epoch: 15 ===> Train set loss: 5.1207\n",
      "Train Epoch: 16 ===> Train set loss: 3.4326\n",
      "Train Epoch: 17 ===> Train set loss: 4.0227\n",
      "Train Epoch: 18 ===> Train set loss: 2.8385\n",
      "Train Epoch: 19 ===> Train set loss: 4.2503\n",
      "Train Epoch: 20 ===> Train set loss: 3.8454\n",
      "Train Epoch: 21 ===> Train set loss: 5.1645\n",
      "Train Epoch: 22 ===> Train set loss: 3.8362\n",
      "Train Epoch: 23 ===> Train set loss: 4.0283\n",
      "Train Epoch: 24 ===> Train set loss: 4.1389\n",
      "Train Epoch: 25 ===> Train set loss: 3.2925\n",
      "Train Epoch: 26 ===> Train set loss: 5.0320\n",
      "Train Epoch: 27 ===> Train set loss: 1.9599\n",
      "Train Epoch: 28 ===> Train set loss: 2.1372\n",
      "Train Epoch: 29 ===> Train set loss: 1.2826\n",
      "Train Epoch: 30 ===> Train set loss: 1.4506\n",
      "Train Epoch: 31 ===> Train set loss: 0.4399\n",
      "Train Epoch: 32 ===> Train set loss: 2.5790\n",
      "Train Epoch: 33 ===> Train set loss: 0.5610\n",
      "Train Epoch: 34 ===> Train set loss: 0.8802\n",
      "Train Epoch: 35 ===> Train set loss: 0.9566\n",
      "Train Epoch: 36 ===> Train set loss: 0.1389\n",
      "Train Epoch: 37 ===> Train set loss: -0.1698\n",
      "Train Epoch: 38 ===> Train set loss: -0.5620\n",
      "Train Epoch: 39 ===> Train set loss: -0.7132\n",
      "Train Epoch: 40 ===> Train set loss: 1.0207\n",
      "Train Epoch: 41 ===> Train set loss: -0.4530\n",
      "Train Epoch: 42 ===> Train set loss: 0.1376\n",
      "Train Epoch: 43 ===> Train set loss: -1.7870\n",
      "Train Epoch: 44 ===> Train set loss: 0.5575\n",
      "Train Epoch: 45 ===> Train set loss: -1.7103\n",
      "Train Epoch: 46 ===> Train set loss: -2.2009\n",
      "Train Epoch: 47 ===> Train set loss: 1.3429\n",
      "Train Epoch: 48 ===> Train set loss: -0.1567\n",
      "Train Epoch: 49 ===> Train set loss: -2.7896\n",
      "Train Epoch: 50 ===> Train set loss: -2.5373\n"
     ]
    }
   ],
   "source": [
    "lr = 1e-3\n",
    "optimizer_max = optim.Adam(list(R_net.parameters()) + list(T_net.parameters()), lr=lr)\n",
    "scheduler_max = torch.optim.lr_scheduler.StepLR(optimizer_max, step_size=25, gamma=0.1)\n",
    "\n",
    "optimizer_min = optim.Adam(list(Tx_net.parameters()), lr=lr)\n",
    "scheduler_min = torch.optim.lr_scheduler.StepLR(optimizer_min, step_size=25, gamma=0.1)\n",
    "\n",
    "n_epochs = 50\n",
    "train_data_size = len(train_loader.dataset)\n",
    "for epoch in range(1, n_epochs + 1):\n",
    "    train_loss = 0\n",
    "    for batch_idx, data in enumerate(train_loader):\n",
    "\n",
    "        actual_size = len(data)\n",
    "        data = data\n",
    "        data_X0 = data[:, :Dx]\n",
    "        data_X1 = data[:, Dx:2*Dx]\n",
    "        data_Y1 = data[:, 2*Dx:]\n",
    "\n",
    "        \n",
    "        #rand_ind = np.random.choice(train_data_size, actual_size, replace=False)\n",
    "        #data_iX1 = train_loader.dataset[rand_ind, Dx:2*Dx].to(device)\n",
    "        data_iX1 = data_X1[torch.randperm(actual_size)]\n",
    "        data_iY1 = data_Y1[torch.randperm(actual_size)]\n",
    "        R0 = R_net(data_X0)\n",
    "        R1 = R_net(data_X1)\n",
    "        iR1 = R_net(data_iX1)\n",
    "        T_J = T_net(torch.cat([R0, R1, data_Y1], 1))\n",
    "        T_I = T_net(torch.cat([R0, iR1, data_iY1], 1))\n",
    "        T_loss = -T_J.mean() + torch.logsumexp(T_I, 0)[0]\n",
    "\n",
    "        train_loss += T_loss.item() * len(data)\n",
    "        optimizer_max.zero_grad()\n",
    "        T_loss.backward()\n",
    "        optimizer_max.step()\n",
    "        \n",
    "        R1 = R_net(data_X1)\n",
    "        iR1 = R_net(data_iX1)\n",
    "        Tx_J = Tx_net(torch.cat([data_X0, R1, data_Y1], 1))\n",
    "        Tx_I = Tx_net(torch.cat([data_X0, iR1, data_iY1], 1))\n",
    "        Tx_loss = -Tx_J.mean() + torch.logsumexp(Tx_I, 0)[0]\n",
    "        \n",
    "        train_loss += Tx_loss.item() * len(data)\n",
    "        optimizer_min.zero_grad()\n",
    "        Tx_loss.backward()\n",
    "        optimizer_min.step()\n",
    "\n",
    "    train_loss /= len(train_loader.dataset)\n",
    "    \n",
    "    if epoch % 1 == 0:\n",
    "        print('Train Epoch: {} ===> Train set loss: {:.4f}'.format(epoch, train_loss))\n",
    "    \n",
    "    scheduler_max.step()\n",
    "    scheduler_min.step()"
   ]
  },
  {
   "cell_type": "code",
   "execution_count": 7,
   "metadata": {},
   "outputs": [
    {
     "data": {
      "text/plain": [
       "Text(0.5, 1.0, 'Observable Information Bottleneck-test1')"
      ]
     },
     "execution_count": 7,
     "metadata": {},
     "output_type": "execute_result"
    },
    {
     "data": {
      "image/png": "[encoded data removed]",
      "text/plain": [
       "<Figure size 432x288 with 1 Axes>"
      ]
     },
     "metadata": {
      "needs_background": "light"
     },
     "output_type": "display_data"
    }
   ],
   "source": [
    "# R = R_net(X0.to(device))\n",
    "# plt.plot(X0_bar.cpu().detach().numpy()[:, 0], R.cpu().detach().numpy()[:, 0], 'o')\n",
    "R = R_net(X0)\n",
    "plt.plot(X0.detach().numpy()[:, 0], R.detach().numpy()[:, 0], 'o')\n",
    "plt.xlabel('First dimension of Xt')\n",
    "plt.ylabel('Rt')\n",
    "plt.title('Observable Information Bottleneck-test1')"
   ]
  },
  {
   "cell_type": "code",
   "execution_count": null,
   "metadata": {},
   "outputs": [],
   "source": []
  },
  {
   "cell_type": "code",
   "execution_count": null,
   "metadata": {},
   "outputs": [],
   "source": []
  }
 ],
 "metadata": {
  "kernelspec": {
   "display_name": "Python 3",
   "language": "python",
   "name": "python3"
  },
  "language_info": {
   "codemirror_mode": {
    "name": "ipython",
    "version": 3
   },
   "file_extension": ".py",
   "mimetype": "text/x-python",
   "name": "python",
   "nbconvert_exporter": "python",
   "pygments_lexer": "ipython3",
   "version": "3.7.3"
  }
 },
 "nbformat": 4,
 "nbformat_minor": 4
}
